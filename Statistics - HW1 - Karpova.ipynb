{
 "cells": [
  {
   "cell_type": "markdown",
   "metadata": {
    "id": "SDhaTqxcWhnP"
   },
   "source": [
    "В цьому домашньому завданні відпрацюємо з вами знання, отримані в модулі зі статистики.\n",
    "\n",
    "**Завдання 1.** Ми обговорили з Вами на лекції, що велика літера Сігма грецького алфавіту позначає в математиці суму. Знайдіть з використанням Python $\\Sigma x$, $\\Sigma x^2$, та $\\Sigma (x-1)^2$ для наступного набору даних:\n",
    "`1 3 4`\n",
    "Виведіть результат кожного обчислення на екран."
   ]
  },
  {
   "cell_type": "code",
   "execution_count": 5,
   "metadata": {},
   "outputs": [],
   "source": [
    "import numpy as np \n",
    "import matplotlib.pyplot as plt"
   ]
  },
  {
   "cell_type": "code",
   "execution_count": 6,
   "metadata": {
    "id": "B1mgx_IBT0e8"
   },
   "outputs": [
    {
     "name": "stdout",
     "output_type": "stream",
     "text": [
      "Обчислення Σx: 8\n",
      "Обчислення Σx^2: 26\n",
      "Обчислення Σ(x-1)^2: 13\n"
     ]
    }
   ],
   "source": [
    "# Набір даних\n",
    "x = [1, 3, 4]\n",
    "\n",
    "# Обчислення Σx\n",
    "sum_x = sum(x)\n",
    "print(f\"Обчислення Σx: {sum_x}\")\n",
    "\n",
    "# Обчислення Σx^2\n",
    "sum_x_squared = sum(x**2 for x in x)\n",
    "print(f\"Обчислення Σx^2: {sum_x_squared}\")\n",
    "\n",
    "# Обчислення Σ(x-1)^2\n",
    "sum_x_minus_1_squared = sum((x-1)**2 for x in x)\n",
    "print(f\"Обчислення Σ(x-1)^2: {sum_x_minus_1_squared}\")\n"
   ]
  },
  {
   "cell_type": "markdown",
   "metadata": {
    "id": "fa78aW5lhiia"
   },
   "source": [
    "**Завдання 2.** Ми зібрали дані про суму покупок в гривнях 20ма випадково обраними клієнтами в нашому магазині (всього клієнтів у нас більше) за минулий місяць. Вони представлені в змінній `sum_purchases`. Знайдіть **вибіркове середнє** для цих даних кожним з зазначених методів:   \n",
    "\n",
    "  2.1. без використання жодних бібліотек, користуючись тільки Python.  \n",
    "  2.2. використовуючи відповідний метод бібліотеки `numpy`.\n",
    "\n",
    "  Виведіть результат обчислень в кожному з випадків на екран та порівняйте результати. Вони співпадають?"
   ]
  },
  {
   "cell_type": "code",
   "execution_count": 21,
   "metadata": {
    "id": "_9kMt3rq6V5m"
   },
   "outputs": [
    {
     "name": "stdout",
     "output_type": "stream",
     "text": [
      "Вибіркове середнє: 667.95\n"
     ]
    }
   ],
   "source": [
    "sum_purchases = [ 316,  493,  367,  153,  224,  121,  322,  450,  196,  397,  281,\n",
    "  239,  484,  124,  223,  448,  432,  255, 4310, 3524]\n",
    "n = len(sum_purchases)\n",
    "mean_purchases = sum(sum_purchases)/n\n",
    "print(f\"Вибіркове середнє: {mean_purchases}\")"
   ]
  },
  {
   "cell_type": "code",
   "execution_count": 22,
   "metadata": {
    "id": "wPmL919HT1c0"
   },
   "outputs": [
    {
     "name": "stdout",
     "output_type": "stream",
     "text": [
      "Вибіркове середнє: 667.95\n"
     ]
    }
   ],
   "source": [
    "mean_np = np.mean(sum_purchases)\n",
    "print(f\"Вибіркове середнє: {mean_np}\")\n",
    "\n",
    "#Вибіркове середнє, вирахуване вручну та з відповідним методом з бібліотеки Numpy - співпадають "
   ]
  },
  {
   "cell_type": "markdown",
   "metadata": {
    "id": "FMdoxZd0kZdW"
   },
   "source": [
    "**Завдання 3.** Для того ж набору даних в змінній `sum_purchases` обчисліть **медіану** кожним з зазначених методів:  \n",
    "\n",
    "  3.1. без використання жодних бібліотек, користуючись тільки Python.  \n",
    "  3.2. використовуючи відповідний метод бібліотеки numpy.  \n",
    "\n",
    "Виведіть результат обчислень в кожному з випадків на екран. Порівняйте результати зі значенням вибіркового середнього. Напишіть коментар, для яких задач ви б використовували вибіркове середнє, а для яких - медіану?"
   ]
  },
  {
   "cell_type": "code",
   "execution_count": 23,
   "metadata": {
    "id": "x58BumvuT2nl"
   },
   "outputs": [
    {
     "name": "stdout",
     "output_type": "stream",
     "text": [
      "Медіана: 319.0\n"
     ]
    }
   ],
   "source": [
    "sorted_sum_purchases = sorted(sum_purchases)\n",
    "n = len(sorted_sum_purchases)\n",
    "if n % 2 == 1:\n",
    "    median = sorted_sum_purchases[n // 2]\n",
    "else:\n",
    "    median = (sorted_sum_purchases[n // 2 - 1] + sorted_sum_purchases[n // 2]) / 2\n",
    "print(f\"Медіана: {median}\")"
   ]
  },
  {
   "cell_type": "code",
   "execution_count": 24,
   "metadata": {},
   "outputs": [
    {
     "name": "stdout",
     "output_type": "stream",
     "text": [
      "Медіана: 319.0\n"
     ]
    }
   ],
   "source": [
    "median_np = np.median(sum_purchases)\n",
    "print(f\"Медіана: {median_np}\")\n",
    "\n",
    "#Значення медіани більш ніж вдвічі менше, ніж значення вибіркового середнього. \n",
    "#Для орієнтиру по сумах покупок краще використовувати вибіркове середнє, адже тут важлива вага кожного значення. А от якби ми вираховували ціну на хліб в різних магазинах - логічніше було б брати медіану, щоб викиди менше впливали на фінальне значення. Тобто різниця в тому, що важливіше в конкретній задачі - вплив кожного значення, чи стійкість до викидів."
   ]
  },
  {
   "cell_type": "markdown",
   "metadata": {
    "id": "o1Z7az2yNDQV"
   },
   "source": [
    "**Завдання 4**. Обчислість стандартне відхилення наведеної вибірки в змінній `sum_purchases` кожним з зазначених методів:  \n",
    "\n",
    "  4.1. без використання жодних бібліотек, користуючись тільки Python.  \n",
    "  4.2. використовуючи відповідний метод бібліотеки numpy.  \n",
    "\n",
    "Виведіть результат обчислень в кожному з випадків на екран."
   ]
  },
  {
   "cell_type": "code",
   "execution_count": 25,
   "metadata": {
    "id": "X4ixtmL2T642"
   },
   "outputs": [
    {
     "name": "stdout",
     "output_type": "stream",
     "text": [
      "Стандартне відхилення: 1096.0692713054227\n"
     ]
    }
   ],
   "source": [
    "# Обчислення суми квадратів різниць між кожним елементом та середнім\n",
    "sum_squared_diff = sum((sum_purchases - mean_purchases) ** 2 for sum_purchases in sum_purchases)\n",
    "\n",
    "# Обчислення дисперсії\n",
    "variance = sum_squared_diff / len(sum_purchases)\n",
    "\n",
    "# Обчислення стандартного відхилення\n",
    "std_purchases = variance ** 0.5\n",
    "print(f\"Стандартне відхилення: {std_purchases}\")\n"
   ]
  },
  {
   "cell_type": "code",
   "execution_count": 26,
   "metadata": {},
   "outputs": [
    {
     "name": "stdout",
     "output_type": "stream",
     "text": [
      "Стандартне відхилення: 1096.0692713054227\n"
     ]
    }
   ],
   "source": [
    "std_np = np.std(sum_purchases)\n",
    "print(f\"Стандартне відхилення: {std_np}\")"
   ]
  },
  {
   "cell_type": "markdown",
   "metadata": {
    "id": "M1ntKTjXLVlH"
   },
   "source": [
    "**Завдання 5**. Ми провели дослідження віку студентів-першокурсників. Виявилось, що\n",
    "- 10 студентів мають вік 16 років\n",
    "- 25 студентів - 17 років\n",
    "- 20 студентів - 18 років\n",
    "- 2 студенти - 20 років\n",
    "\n",
    "Обчислість середнє значення для цієї вибірки будь-яким способом - на чистому Python або з numpy - та виведіть результат на екран."
   ]
  },
  {
   "cell_type": "code",
   "execution_count": 27,
   "metadata": {
    "id": "RdIU4M-7T8R4"
   },
   "outputs": [
    {
     "name": "stdout",
     "output_type": "stream",
     "text": [
      "Середній вік: 17.280701754385966\n"
     ]
    }
   ],
   "source": [
    "ages = [16, 17, 18, 20]\n",
    "counts = [10, 25, 20, 2]\n",
    "ages_np = np.array(ages)\n",
    "counts_np = np.array(counts)\n",
    "\n",
    "# Обчислимо через зважене середнє\n",
    "average_age = np.average(ages_np, weights=counts_np)\n",
    "print(f\"Середній вік: {average_age}\")"
   ]
  },
  {
   "cell_type": "markdown",
   "metadata": {
    "id": "Xx8MFkkVM53z"
   },
   "source": [
    "**Завдання 6**. Крім даних про суму покупок, ми зібрали ще дані про кількість відвідувань кожного з кожного покупця, які знаходяться в змінній `visits`. Обчисліть коефіцієнт кореляції Пірсона для суми покупок і кількості відвідувань кожним з зазначених методів:  \n",
    "\n",
    "  6.1. без використання жодних бібліотек, користуючись тільки Python.  \n",
    "  6.2. використовуючи відповідний метод бібліотеки numpy.  \n",
    "  \n",
    "Виведіть результат на екран. Проаналізуйте результат.\n",
    "\n",
    "Виведіть додатково графік розсіювання викликавши код нижче і зробіть заключення, чи варто щось змінити при підрахунку кореляції, аби коефіцієнт Пірсона показував коректну оцінку лінійної залежності?"
   ]
  },
  {
   "cell_type": "code",
   "execution_count": 29,
   "metadata": {
    "id": "4OIGBT7UOWhO"
   },
   "outputs": [],
   "source": [
    "visits = [ 6,  2, 10,  3,  9,  9,  2,  3,  6,  6, 10,  2,  5, 10,  3,  5,  4,\n",
    "        7,  4,  2]"
   ]
  },
  {
   "cell_type": "code",
   "execution_count": 31,
   "metadata": {
    "id": "YLNF7VbeT97Q"
   },
   "outputs": [
    {
     "name": "stdout",
     "output_type": "stream",
     "text": [
      "Коефіцієнт кореляції Пірсона: -0.3026584468766646\n"
     ]
    }
   ],
   "source": [
    "# Обчислення середнього значення для даних про відвідування \n",
    "mean_visits = sum(visits) / len(visits)\n",
    "\n",
    "# Обчислення чисельника і знаменника для коефіцієнта кореляції Пірсона\n",
    "numerator = sum((xi - mean_purchases) * (yi - mean_visits) for xi, yi in zip(sum_purchases, visits))\n",
    "sum_sq_x = sum((xi - mean_purchases) ** 2 for xi in sum_purchases)\n",
    "sum_sq_y = sum((yi - mean_visits) ** 2 for yi in visits)\n",
    "denominator = (sum_sq_x * sum_sq_y) ** 0.5\n",
    "\n",
    "# Коефіцієнт кореляції Пірсона\n",
    "r = numerator / denominator if denominator != 0 else 0\n",
    "print(f\"Коефіцієнт кореляції Пірсона: {r}\")\n"
   ]
  },
  {
   "cell_type": "code",
   "execution_count": 32,
   "metadata": {},
   "outputs": [
    {
     "name": "stdout",
     "output_type": "stream",
     "text": [
      "Коефіцієнт кореляції Пірсона: -0.3026584468766646\n"
     ]
    }
   ],
   "source": [
    "sum_purchases_np = np.array(sum_purchases)\n",
    "visits_np = np.array(visits)\n",
    "\n",
    "# Використання numpy для обчислення коефіцієнта кореляції Пірсона\n",
    "r_np = np.corrcoef(sum_purchases_np, visits_np)[0, 1]\n",
    "print(f\"Коефіцієнт кореляції Пірсона: {r_np}\")"
   ]
  },
  {
   "cell_type": "code",
   "execution_count": 38,
   "metadata": {
    "colab": {
     "base_uri": "https://localhost:8080/",
     "height": 472
    },
    "id": "gaeoGA-5Prr1",
    "outputId": "0c910a7f-0e96-449a-881d-1efa453b3c8d"
   },
   "outputs": [
    {
     "data": {
      "image/png": "[encoded data removed]",
      "text/plain": [
       "<Figure size 640x480 with 1 Axes>"
      ]
     },
     "metadata": {},
     "output_type": "display_data"
    }
   ],
   "source": [
    "plt.scatter(sum_purchases, visits)\n",
    "plt.title('Scatter Plot of Purchases vs. Visits')\n",
    "plt.xlabel('Sum of Purchases')\n",
    "plt.ylabel('Number of Visits');\n",
    "#Є записи-викиди, що впливають на коректність розрахунку кореляції. Краще їх вилучити. "
   ]
  },
  {
   "cell_type": "markdown",
   "metadata": {
    "id": "4pEg0KzSQ6KA"
   },
   "source": [
    "**Завдання 7**. В попередньому завданні ми помітили, що викиди нам заважають отримати \"правдиве\" значення кореляції. Давайте вилучимо записи, які відповідають значенням з викидами в сумі покупок і обчисліть коеф. кореляції. Для цього поставте `threshold`, який дорінює середньому значенню + 2 стандартних вдіхилля суми покупок і всі значення, які більше за нього, будемо вважати викидами (є і інші правила для визначення викидів - з ним и познайомимось пізніше).\n",
    "\n",
    "Вилучіть значення з обох масивів і обчисліть коеф. кореляції Пірсона з допомогою `numpy` для кількості візитів і суми покупок без записів-викидів. Виведіть результат на екран, побудуйте діаграму розсіювання і проаналізуйте результат: що можемо сказати про залежність в даних?"
   ]
  },
  {
   "cell_type": "code",
   "execution_count": 36,
   "metadata": {
    "id": "Yj3Yfaf7UBbc",
    "scrolled": true
   },
   "outputs": [
    {
     "name": "stdout",
     "output_type": "stream",
     "text": [
      "Коефіцієнт кореляції Пірсона без записів-викидів: -0.3685212078127798\n"
     ]
    }
   ],
   "source": [
    "sum_purchases_np = np.array(sum_purchases)\n",
    "visits_np = np.array(visits)\n",
    "# Визначення порогу для викидів\n",
    "threshold = mean_np + 2 * std_np\n",
    "\n",
    "# Вилучення значень, які перевищують поріг\n",
    "filtered_indices = sum_purchases_np < threshold\n",
    "filtered_sum_purchases = sum_purchases_np[filtered_indices]\n",
    "filtered_visits = visits_np[filtered_indices]\n",
    "\n",
    "# Обчислення коефіцієнта кореляції Пірсона для фільтрованих даних\n",
    "r_filtered = np.corrcoef(filtered_sum_purchases, filtered_visits)[0, 1]\n",
    "\n",
    "print(f\"Коефіцієнт кореляції Пірсона без записів-викидів: {r_filtered}\")"
   ]
  },
  {
   "cell_type": "code",
   "execution_count": 37,
   "metadata": {},
   "outputs": [
    {
     "data": {
      "image/png": "[encoded data removed]",
      "text/plain": [
       "<Figure size 640x480 with 1 Axes>"
      ]
     },
     "metadata": {},
     "output_type": "display_data"
    }
   ],
   "source": [
    "# Побудова діаграми розсіювання для записів без викидів\n",
    "\n",
    "plt.scatter(filtered_visits, filtered_sum_purchases)\n",
    "plt.xlabel('Number of Visits')\n",
    "plt.ylabel('Sum of Purchases')\n",
    "plt.title('Scatter Plot of Visits vs. Sum of Purchases')\n",
    "plt.grid(True)\n",
    "plt.show()"
   ]
  },
  {
   "cell_type": "markdown",
   "metadata": {},
   "source": [
    "# Висновок: дані мають слабку негативну кореляцію (-0,37).\n",
    "1) Негативний коефіцієнт вказує, що при збільшенні однієї змінної, інша має тенденцію зменшуватися. Це звучить логічно в контексті даних, які аналізувалися - чим частіше людина ходить в магазин, тим менший середній чек. І навпаки - якщо людина має звичку відвідувати магазин рідше, то чек може бути більшим. \n",
    "2) Слабкий зв'язок говорить про те, що дані корелюють, але на кожну змінну можуть впливати і інші фактори. Це теж досить логічно в контексті задачі, на суму покупок людини може впливати багато факторів, а не лише частота відвідування магазину. "
   ]
  },
  {
   "cell_type": "code",
   "execution_count": null,
   "metadata": {},
   "outputs": [],
   "source": []
  }
 ],
 "metadata": {
  "colab": {
   "provenance": []
  },
  "kernelspec": {
   "display_name": "Python 3 (ipykernel)",
   "language": "python",
   "name": "python3"
  },
  "language_info": {
   "codemirror_mode": {
    "name": "ipython",
    "version": 3
   },
   "file_extension": ".py",
   "mimetype": "text/x-python",
   "name": "python",
   "nbconvert_exporter": "python",
   "pygments_lexer": "ipython3",
   "version": "3.9.16"
  }
 },
 "nbformat": 4,
 "nbformat_minor": 1
}
